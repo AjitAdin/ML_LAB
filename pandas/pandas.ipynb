{
 "cells": [
  {
   "cell_type": "code",
   "id": "initial_id",
   "metadata": {
    "collapsed": true,
    "ExecuteTime": {
     "end_time": "2025-05-25T14:11:24.140623Z",
     "start_time": "2025-05-25T14:11:21.611794Z"
    }
   },
   "source": [
    "import pandas as pd\n",
    "import numpy as np\n",
    "from sympy import series\n",
    "\n",
    "# Create 100 rows and 3 columns\n"
   ],
   "outputs": [],
   "execution_count": 1
  },
  {
   "metadata": {},
   "cell_type": "markdown",
   "source": "SERIES\n",
   "id": "49f329fa69b1f7d2"
  },
  {
   "metadata": {
    "ExecuteTime": {
     "end_time": "2025-05-25T14:11:24.219829Z",
     "start_time": "2025-05-25T14:11:24.189700Z"
    }
   },
   "cell_type": "code",
   "source": [
    "country=['a','b','c']\n",
    "type(country)"
   ],
   "id": "9a4937a8a2144dfb",
   "outputs": [
    {
     "data": {
      "text/plain": [
       "list"
      ]
     },
     "execution_count": 2,
     "metadata": {},
     "output_type": "execute_result"
    }
   ],
   "execution_count": 2
  },
  {
   "metadata": {
    "ExecuteTime": {
     "end_time": "2025-05-25T14:11:25.070611Z",
     "start_time": "2025-05-25T14:11:25.030320Z"
    }
   },
   "cell_type": "code",
   "source": "pd.Series(country)",
   "id": "a6295f12f519f838",
   "outputs": [
    {
     "data": {
      "text/plain": [
       "0    a\n",
       "1    b\n",
       "2    c\n",
       "dtype: object"
      ]
     },
     "execution_count": 3,
     "metadata": {},
     "output_type": "execute_result"
    }
   ],
   "execution_count": 3
  },
  {
   "metadata": {
    "ExecuteTime": {
     "end_time": "2025-05-25T14:11:25.495909Z",
     "start_time": "2025-05-25T14:11:25.484901Z"
    }
   },
   "cell_type": "code",
   "source": "",
   "id": "6747007320d19c85",
   "outputs": [],
   "execution_count": null
  },
  {
   "metadata": {
    "ExecuteTime": {
     "end_time": "2025-05-25T14:11:25.823616Z",
     "start_time": "2025-05-25T14:11:25.807617Z"
    }
   },
   "cell_type": "code",
   "source": [
    "subjects=['a','b','c','d']\n",
    "marks=[15,54,545,25]\n",
    "\n",
    "marks=pd.Series(marks,index=subjects,name='marks')\n",
    "print(marks)"
   ],
   "id": "e357eed0c0cc938e",
   "outputs": [
    {
     "name": "stdout",
     "output_type": "stream",
     "text": [
      "a     15\n",
      "b     54\n",
      "c    545\n",
      "d     25\n",
      "Name: marks, dtype: int64\n"
     ]
    }
   ],
   "execution_count": 4
  },
  {
   "metadata": {},
   "cell_type": "markdown",
   "source": "Series Form Dict",
   "id": "cc667a8eab1b58fa"
  },
  {
   "metadata": {
    "ExecuteTime": {
     "end_time": "2025-05-25T14:11:26.560984Z",
     "start_time": "2025-05-25T14:11:26.541981Z"
    }
   },
   "cell_type": "code",
   "source": [
    "marks= {\n",
    "    'a':12,\n",
    "    'b':13,\n",
    "    'c':14,\n",
    "    'd':15\n",
    "}\n",
    "\n",
    "series=pd.Series(marks,name='marks')"
   ],
   "id": "1643240645dfa88",
   "outputs": [],
   "execution_count": 5
  },
  {
   "metadata": {
    "ExecuteTime": {
     "end_time": "2025-05-25T14:11:26.703044Z",
     "start_time": "2025-05-25T14:11:26.663554Z"
    }
   },
   "cell_type": "code",
   "source": [
    "type(series)\n",
    "series.index\n",
    "series.values\n",
    "series.dtype\n",
    "series.size\n",
    "series.sum()\n",
    "series.mean()\n",
    "series.std()\n",
    "series.name\n",
    "series.is_unique\n"
   ],
   "id": "951cf97b46ab2578",
   "outputs": [
    {
     "data": {
      "text/plain": [
       "True"
      ]
     },
     "execution_count": 6,
     "metadata": {},
     "output_type": "execute_result"
    }
   ],
   "execution_count": 6
  },
  {
   "metadata": {
    "ExecuteTime": {
     "end_time": "2025-05-25T14:11:26.811435Z",
     "start_time": "2025-05-25T14:11:26.801441Z"
    }
   },
   "cell_type": "code",
   "source": "",
   "id": "ff69a418320cecdd",
   "outputs": [],
   "execution_count": null
  },
  {
   "metadata": {
    "ExecuteTime": {
     "end_time": "2025-05-25T14:11:26.950904Z",
     "start_time": "2025-05-25T14:11:26.920569Z"
    }
   },
   "cell_type": "code",
   "source": "type(pd.read_csv('../datasets/subs.csv'))",
   "id": "679a4dfc2067470e",
   "outputs": [
    {
     "data": {
      "text/plain": [
       "pandas.core.frame.DataFrame"
      ]
     },
     "execution_count": 7,
     "metadata": {},
     "output_type": "execute_result"
    }
   ],
   "execution_count": 7
  },
  {
   "metadata": {
    "ExecuteTime": {
     "end_time": "2025-05-25T14:40:33.355925Z",
     "start_time": "2025-05-25T14:40:33.209408Z"
    }
   },
   "cell_type": "code",
   "source": [
    "df_subs=pd.read_csv('../datasets/subs.csv')\n",
    "series=df.squeeze('columns')\n",
    "type(series)\n",
    "# series\n"
   ],
   "id": "ffa3eb85ebfc0d9f",
   "outputs": [
    {
     "data": {
      "text/plain": [
       "pandas.core.series.Series"
      ]
     },
     "execution_count": 59,
     "metadata": {},
     "output_type": "execute_result"
    }
   ],
   "execution_count": 59
  },
  {
   "metadata": {
    "ExecuteTime": {
     "end_time": "2025-05-25T14:19:35.839318Z",
     "start_time": "2025-05-25T14:19:35.724790Z"
    }
   },
   "cell_type": "code",
   "source": [
    "df_movies=pd.read_csv('../datasets/bollywood - bollywood.csv')\n",
    "series=df_movies['movie']"
   ],
   "id": "d969f33b30fe864f",
   "outputs": [],
   "execution_count": 36
  },
  {
   "metadata": {
    "ExecuteTime": {
     "end_time": "2025-05-25T14:11:27.311560Z",
     "start_time": "2025-05-25T14:11:27.297619Z"
    }
   },
   "cell_type": "code",
   "source": "type(series)",
   "id": "eaef6dd526b70143",
   "outputs": [
    {
     "data": {
      "text/plain": [
       "pandas.core.series.Series"
      ]
     },
     "execution_count": 10,
     "metadata": {},
     "output_type": "execute_result"
    }
   ],
   "execution_count": 10
  },
  {
   "metadata": {
    "ExecuteTime": {
     "end_time": "2025-05-25T14:11:27.499422Z",
     "start_time": "2025-05-25T14:11:27.477313Z"
    }
   },
   "cell_type": "code",
   "source": [
    "df_kohli=pd.read_csv('../datasets/kohli_ipl.csv')\n",
    "# df_kohli\n"
   ],
   "id": "5217bd085caa8ffa",
   "outputs": [],
   "execution_count": 11
  },
  {
   "metadata": {
    "ExecuteTime": {
     "end_time": "2025-05-25T14:11:27.655500Z",
     "start_time": "2025-05-25T14:11:27.628617Z"
    }
   },
   "cell_type": "code",
   "source": "df_kohli.sample()",
   "id": "d24b9cb82a36e5ca",
   "outputs": [
    {
     "data": {
      "text/plain": [
       "   match_no  runs\n",
       "1         2    23"
      ],
      "text/html": [
       "<div>\n",
       "<style scoped>\n",
       "    .dataframe tbody tr th:only-of-type {\n",
       "        vertical-align: middle;\n",
       "    }\n",
       "\n",
       "    .dataframe tbody tr th {\n",
       "        vertical-align: top;\n",
       "    }\n",
       "\n",
       "    .dataframe thead th {\n",
       "        text-align: right;\n",
       "    }\n",
       "</style>\n",
       "<table border=\"1\" class=\"dataframe\">\n",
       "  <thead>\n",
       "    <tr style=\"text-align: right;\">\n",
       "      <th></th>\n",
       "      <th>match_no</th>\n",
       "      <th>runs</th>\n",
       "    </tr>\n",
       "  </thead>\n",
       "  <tbody>\n",
       "    <tr>\n",
       "      <th>1</th>\n",
       "      <td>2</td>\n",
       "      <td>23</td>\n",
       "    </tr>\n",
       "  </tbody>\n",
       "</table>\n",
       "</div>"
      ]
     },
     "execution_count": 12,
     "metadata": {},
     "output_type": "execute_result"
    }
   ],
   "execution_count": 12
  },
  {
   "metadata": {
    "ExecuteTime": {
     "end_time": "2025-05-25T14:11:27.889614Z",
     "start_time": "2025-05-25T14:11:27.844611Z"
    }
   },
   "cell_type": "code",
   "source": "df_movies",
   "id": "982492989de9eeed",
   "outputs": [
    {
     "data": {
      "text/plain": [
       "                                     movie              lead\n",
       "0                 Uri: The Surgical Strike     Vicky Kaushal\n",
       "1                            Battalion 609       Vicky Ahuja\n",
       "2     The Accidental Prime Minister (film)       Anupam Kher\n",
       "3                          Why Cheat India     Emraan Hashmi\n",
       "4                          Evening Shadows  Mona Ambegaonkar\n",
       "...                                    ...               ...\n",
       "1495                Hum Tumhare Hain Sanam    Shah Rukh Khan\n",
       "1496                   Aankhen (2002 film)  Amitabh Bachchan\n",
       "1497                       Saathiya (film)      Vivek Oberoi\n",
       "1498                        Company (film)        Ajay Devgn\n",
       "1499                  Awara Paagal Deewana      Akshay Kumar\n",
       "\n",
       "[1500 rows x 2 columns]"
      ],
      "text/html": [
       "<div>\n",
       "<style scoped>\n",
       "    .dataframe tbody tr th:only-of-type {\n",
       "        vertical-align: middle;\n",
       "    }\n",
       "\n",
       "    .dataframe tbody tr th {\n",
       "        vertical-align: top;\n",
       "    }\n",
       "\n",
       "    .dataframe thead th {\n",
       "        text-align: right;\n",
       "    }\n",
       "</style>\n",
       "<table border=\"1\" class=\"dataframe\">\n",
       "  <thead>\n",
       "    <tr style=\"text-align: right;\">\n",
       "      <th></th>\n",
       "      <th>movie</th>\n",
       "      <th>lead</th>\n",
       "    </tr>\n",
       "  </thead>\n",
       "  <tbody>\n",
       "    <tr>\n",
       "      <th>0</th>\n",
       "      <td>Uri: The Surgical Strike</td>\n",
       "      <td>Vicky Kaushal</td>\n",
       "    </tr>\n",
       "    <tr>\n",
       "      <th>1</th>\n",
       "      <td>Battalion 609</td>\n",
       "      <td>Vicky Ahuja</td>\n",
       "    </tr>\n",
       "    <tr>\n",
       "      <th>2</th>\n",
       "      <td>The Accidental Prime Minister (film)</td>\n",
       "      <td>Anupam Kher</td>\n",
       "    </tr>\n",
       "    <tr>\n",
       "      <th>3</th>\n",
       "      <td>Why Cheat India</td>\n",
       "      <td>Emraan Hashmi</td>\n",
       "    </tr>\n",
       "    <tr>\n",
       "      <th>4</th>\n",
       "      <td>Evening Shadows</td>\n",
       "      <td>Mona Ambegaonkar</td>\n",
       "    </tr>\n",
       "    <tr>\n",
       "      <th>...</th>\n",
       "      <td>...</td>\n",
       "      <td>...</td>\n",
       "    </tr>\n",
       "    <tr>\n",
       "      <th>1495</th>\n",
       "      <td>Hum Tumhare Hain Sanam</td>\n",
       "      <td>Shah Rukh Khan</td>\n",
       "    </tr>\n",
       "    <tr>\n",
       "      <th>1496</th>\n",
       "      <td>Aankhen (2002 film)</td>\n",
       "      <td>Amitabh Bachchan</td>\n",
       "    </tr>\n",
       "    <tr>\n",
       "      <th>1497</th>\n",
       "      <td>Saathiya (film)</td>\n",
       "      <td>Vivek Oberoi</td>\n",
       "    </tr>\n",
       "    <tr>\n",
       "      <th>1498</th>\n",
       "      <td>Company (film)</td>\n",
       "      <td>Ajay Devgn</td>\n",
       "    </tr>\n",
       "    <tr>\n",
       "      <th>1499</th>\n",
       "      <td>Awara Paagal Deewana</td>\n",
       "      <td>Akshay Kumar</td>\n",
       "    </tr>\n",
       "  </tbody>\n",
       "</table>\n",
       "<p>1500 rows × 2 columns</p>\n",
       "</div>"
      ]
     },
     "execution_count": 13,
     "metadata": {},
     "output_type": "execute_result"
    }
   ],
   "execution_count": 13
  },
  {
   "metadata": {
    "ExecuteTime": {
     "end_time": "2025-05-25T14:19:40.549360Z",
     "start_time": "2025-05-25T14:19:40.501373Z"
    }
   },
   "cell_type": "code",
   "source": [
    "print(df_movies['lead'].size)\n",
    "df_movies['lead'].value_counts()"
   ],
   "id": "4fe4eb5e3eb7506c",
   "outputs": [
    {
     "name": "stdout",
     "output_type": "stream",
     "text": [
      "1500\n"
     ]
    },
    {
     "data": {
      "text/plain": [
       "lead\n",
       "Akshay Kumar        48\n",
       "Amitabh Bachchan    45\n",
       "Ajay Devgn          38\n",
       "Salman Khan         31\n",
       "Sanjay Dutt         26\n",
       "                    ..\n",
       "Diganth              1\n",
       "Parveen Kaur         1\n",
       "Seema Azmi           1\n",
       "Akanksha Puri        1\n",
       "Edwin Fernandes      1\n",
       "Name: count, Length: 566, dtype: int64"
      ]
     },
     "execution_count": 37,
     "metadata": {},
     "output_type": "execute_result"
    }
   ],
   "execution_count": 37
  },
  {
   "metadata": {},
   "cell_type": "markdown",
   "source": "CUSTOM FUNCTION",
   "id": "b4862f1354d7733a"
  },
  {
   "metadata": {
    "ExecuteTime": {
     "end_time": "2025-05-25T14:11:28.996781Z",
     "start_time": "2025-05-25T14:11:28.971784Z"
    }
   },
   "cell_type": "code",
   "source": [
    "from collections import Counter\n",
    "\n",
    "\n",
    "# Sample list of dictionaries (each dictionary = one row)\n",
    "df_movies = [\n",
    "    {\"title\": \"Movie A\", \"lead\": \"Actor X\", \"year\": 2010},\n",
    "    {\"title\": \"Movie B\", \"lead\": \"Actor Y\", \"year\": 2012},\n",
    "    {\"title\": \"Movie C\", \"lead\": \"Actor X\", \"year\": 2015},\n",
    "    {\"title\": \"Movie D\", \"lead\": \"Actor Z\", \"year\": 2018},\n",
    "    {\"title\": \"Movie E\", \"lead\": \"Actor Y\", \"year\": 2020}\n",
    "]\n",
    "\n",
    "\n"
   ],
   "id": "a15af82030fff35e",
   "outputs": [],
   "execution_count": 15
  },
  {
   "metadata": {
    "ExecuteTime": {
     "end_time": "2025-05-25T14:11:29.788331Z",
     "start_time": "2025-05-25T14:11:29.762331Z"
    }
   },
   "cell_type": "code",
   "source": [
    "lead_columns=[]\n",
    "for i in df_movies:\n",
    "    lead_columns.append(i['lead'])\n",
    "lead_columns\n",
    "leads_counts=Counter(lead_columns)\n",
    "print(leads_counts)"
   ],
   "id": "d1bc6bb72e4cd8de",
   "outputs": [
    {
     "name": "stdout",
     "output_type": "stream",
     "text": [
      "Counter({'Actor X': 2, 'Actor Y': 2, 'Actor Z': 1})\n"
     ]
    }
   ],
   "execution_count": 16
  },
  {
   "metadata": {
    "ExecuteTime": {
     "end_time": "2025-05-25T14:11:30.230783Z",
     "start_time": "2025-05-25T14:11:30.214099Z"
    }
   },
   "cell_type": "code",
   "source": [
    "for actor ,count in leads_counts.items():\n",
    "    print(actor,count)"
   ],
   "id": "ab0e80aa27fd42a4",
   "outputs": [
    {
     "name": "stdout",
     "output_type": "stream",
     "text": [
      "Actor X 2\n",
      "Actor Y 2\n",
      "Actor Z 1\n"
     ]
    }
   ],
   "execution_count": 17
  },
  {
   "metadata": {
    "ExecuteTime": {
     "end_time": "2025-05-25T14:12:11.135548Z",
     "start_time": "2025-05-25T14:12:11.126554Z"
    }
   },
   "cell_type": "code",
   "source": [
    "#LIST COMPREHENSION\n",
    "leads_counts= [ i['lead'] for i in  df_movies]\n",
    "leads_counts"
   ],
   "id": "497be54d7fbd96db",
   "outputs": [
    {
     "data": {
      "text/plain": [
       "['Actor X', 'Actor Y', 'Actor X', 'Actor Z', 'Actor Y']"
      ]
     },
     "execution_count": 20,
     "metadata": {},
     "output_type": "execute_result"
    }
   ],
   "execution_count": 20
  },
  {
   "metadata": {
    "ExecuteTime": {
     "end_time": "2025-05-25T14:15:41.366355Z",
     "start_time": "2025-05-25T14:15:41.346323Z"
    }
   },
   "cell_type": "code",
   "source": "df_kohli['runs'].sort_values(ascending=False).head(1).values # higest number",
   "id": "fdfc5ab607b5a1f9",
   "outputs": [
    {
     "data": {
      "text/plain": [
       "array([113], dtype=int64)"
      ]
     },
     "execution_count": 31,
     "metadata": {},
     "output_type": "execute_result"
    }
   ],
   "execution_count": 31
  },
  {
   "metadata": {
    "ExecuteTime": {
     "end_time": "2025-05-25T14:15:59.161924Z",
     "start_time": "2025-05-25T14:15:59.137916Z"
    }
   },
   "cell_type": "code",
   "source": "df_kohli['runs'].sort_values(ascending=False).head(1).values[0] # higest number",
   "id": "dd2c9c27082728f",
   "outputs": [
    {
     "data": {
      "text/plain": [
       "113"
      ]
     },
     "execution_count": 32,
     "metadata": {},
     "output_type": "execute_result"
    }
   ],
   "execution_count": 32
  },
  {
   "metadata": {
    "ExecuteTime": {
     "end_time": "2025-05-25T14:17:15.533252Z",
     "start_time": "2025-05-25T14:17:15.523618Z"
    }
   },
   "cell_type": "code",
   "source": [
    "# changing inplace only\n",
    "df_kohli.sort_values(inplace=True)"
   ],
   "id": "d80cf7b03ca28ee4",
   "outputs": [],
   "execution_count": 33
  },
  {
   "metadata": {
    "ExecuteTime": {
     "end_time": "2025-05-25T14:23:39.489441Z",
     "start_time": "2025-05-25T14:23:39.475485Z"
    }
   },
   "cell_type": "code",
   "source": "print(df_movies)",
   "id": "adaef99bba7d92c4",
   "outputs": [
    {
     "name": "stdout",
     "output_type": "stream",
     "text": [
      "                                     movie              lead\n",
      "0                 Uri: The Surgical Strike     Vicky Kaushal\n",
      "1                            Battalion 609       Vicky Ahuja\n",
      "2     The Accidental Prime Minister (film)       Anupam Kher\n",
      "3                          Why Cheat India     Emraan Hashmi\n",
      "4                          Evening Shadows  Mona Ambegaonkar\n",
      "...                                    ...               ...\n",
      "1495                Hum Tumhare Hain Sanam    Shah Rukh Khan\n",
      "1496                   Aankhen (2002 film)  Amitabh Bachchan\n",
      "1497                       Saathiya (film)      Vivek Oberoi\n",
      "1498                        Company (film)        Ajay Devgn\n",
      "1499                  Awara Paagal Deewana      Akshay Kumar\n",
      "\n",
      "[1500 rows x 2 columns]\n"
     ]
    }
   ],
   "execution_count": 45
  },
  {
   "metadata": {
    "ExecuteTime": {
     "end_time": "2025-05-25T14:25:02.233170Z",
     "start_time": "2025-05-25T14:25:02.206134Z"
    }
   },
   "cell_type": "code",
   "source": "df_movies.sort_values(by=['movie'], ascending=True)",
   "id": "1aa879e6d314194f",
   "outputs": [
    {
     "data": {
      "text/plain": [
       "                         movie                lead\n",
       "1022               1920 (film)    Rajniesh Duggall\n",
       "287               1920: London       Sharman Joshi\n",
       "725     1920: The Evil Returns         Vicky Ahuja\n",
       "1040          1971 (2007 film)      Manoj Bajpayee\n",
       "484       2 States (2014 film)        Arjun Kapoor\n",
       "...                        ...                 ...\n",
       "603              Zindagi 50-50         Veena Malik\n",
       "780   Zindagi Na Milegi Dobara      Hrithik Roshan\n",
       "672          Zindagi Tere Naam  Mithun Chakraborty\n",
       "758                   Zokkomon     Darsheel Safary\n",
       "941      Zor Lagaa Ke...Haiya!       Meghan Jadhav\n",
       "\n",
       "[1500 rows x 2 columns]"
      ],
      "text/html": [
       "<div>\n",
       "<style scoped>\n",
       "    .dataframe tbody tr th:only-of-type {\n",
       "        vertical-align: middle;\n",
       "    }\n",
       "\n",
       "    .dataframe tbody tr th {\n",
       "        vertical-align: top;\n",
       "    }\n",
       "\n",
       "    .dataframe thead th {\n",
       "        text-align: right;\n",
       "    }\n",
       "</style>\n",
       "<table border=\"1\" class=\"dataframe\">\n",
       "  <thead>\n",
       "    <tr style=\"text-align: right;\">\n",
       "      <th></th>\n",
       "      <th>movie</th>\n",
       "      <th>lead</th>\n",
       "    </tr>\n",
       "  </thead>\n",
       "  <tbody>\n",
       "    <tr>\n",
       "      <th>1022</th>\n",
       "      <td>1920 (film)</td>\n",
       "      <td>Rajniesh Duggall</td>\n",
       "    </tr>\n",
       "    <tr>\n",
       "      <th>287</th>\n",
       "      <td>1920: London</td>\n",
       "      <td>Sharman Joshi</td>\n",
       "    </tr>\n",
       "    <tr>\n",
       "      <th>725</th>\n",
       "      <td>1920: The Evil Returns</td>\n",
       "      <td>Vicky Ahuja</td>\n",
       "    </tr>\n",
       "    <tr>\n",
       "      <th>1040</th>\n",
       "      <td>1971 (2007 film)</td>\n",
       "      <td>Manoj Bajpayee</td>\n",
       "    </tr>\n",
       "    <tr>\n",
       "      <th>484</th>\n",
       "      <td>2 States (2014 film)</td>\n",
       "      <td>Arjun Kapoor</td>\n",
       "    </tr>\n",
       "    <tr>\n",
       "      <th>...</th>\n",
       "      <td>...</td>\n",
       "      <td>...</td>\n",
       "    </tr>\n",
       "    <tr>\n",
       "      <th>603</th>\n",
       "      <td>Zindagi 50-50</td>\n",
       "      <td>Veena Malik</td>\n",
       "    </tr>\n",
       "    <tr>\n",
       "      <th>780</th>\n",
       "      <td>Zindagi Na Milegi Dobara</td>\n",
       "      <td>Hrithik Roshan</td>\n",
       "    </tr>\n",
       "    <tr>\n",
       "      <th>672</th>\n",
       "      <td>Zindagi Tere Naam</td>\n",
       "      <td>Mithun Chakraborty</td>\n",
       "    </tr>\n",
       "    <tr>\n",
       "      <th>758</th>\n",
       "      <td>Zokkomon</td>\n",
       "      <td>Darsheel Safary</td>\n",
       "    </tr>\n",
       "    <tr>\n",
       "      <th>941</th>\n",
       "      <td>Zor Lagaa Ke...Haiya!</td>\n",
       "      <td>Meghan Jadhav</td>\n",
       "    </tr>\n",
       "  </tbody>\n",
       "</table>\n",
       "<p>1500 rows × 2 columns</p>\n",
       "</div>"
      ]
     },
     "execution_count": 48,
     "metadata": {},
     "output_type": "execute_result"
    }
   ],
   "execution_count": 48
  },
  {
   "metadata": {
    "ExecuteTime": {
     "end_time": "2025-05-25T14:35:03.426465Z",
     "start_time": "2025-05-25T14:35:03.277832Z"
    }
   },
   "cell_type": "code",
   "source": "# print(df_movies.to_string())",
   "id": "a5e76e4c624b2564",
   "outputs": [],
   "execution_count": 51
  },
  {
   "metadata": {},
   "cell_type": "markdown",
   "source": [
    "## Expression\tWhat it returns\n",
    "\n",
    "df_kohli.size\tTotal number of elements (rows × columns)\n",
    "df_kohli.count()\tCount of non-null values per column"
   ],
   "id": "b33464661403d04b"
  },
  {
   "metadata": {
    "ExecuteTime": {
     "end_time": "2025-05-25T14:37:36.771419Z",
     "start_time": "2025-05-25T14:37:36.764439Z"
    }
   },
   "cell_type": "code",
   "source": [
    "print(df_kohli.size)\n",
    "print(df_kohli.count())"
   ],
   "id": "3ca5a37923c78aaa",
   "outputs": [
    {
     "name": "stdout",
     "output_type": "stream",
     "text": [
      "430\n",
      "match_no    215\n",
      "runs        215\n",
      "dtype: int64\n"
     ]
    }
   ],
   "execution_count": 57
  },
  {
   "metadata": {
    "ExecuteTime": {
     "end_time": "2025-05-25T14:41:10.153867Z",
     "start_time": "2025-05-25T14:41:10.132864Z"
    }
   },
   "cell_type": "code",
   "source": "df_subs.head()",
   "id": "a980c0885d8aa072",
   "outputs": [
    {
     "data": {
      "text/plain": [
       "   Subscribers gained\n",
       "0                  48\n",
       "1                  57\n",
       "2                  40\n",
       "3                  43\n",
       "4                  44"
      ],
      "text/html": [
       "<div>\n",
       "<style scoped>\n",
       "    .dataframe tbody tr th:only-of-type {\n",
       "        vertical-align: middle;\n",
       "    }\n",
       "\n",
       "    .dataframe tbody tr th {\n",
       "        vertical-align: top;\n",
       "    }\n",
       "\n",
       "    .dataframe thead th {\n",
       "        text-align: right;\n",
       "    }\n",
       "</style>\n",
       "<table border=\"1\" class=\"dataframe\">\n",
       "  <thead>\n",
       "    <tr style=\"text-align: right;\">\n",
       "      <th></th>\n",
       "      <th>Subscribers gained</th>\n",
       "    </tr>\n",
       "  </thead>\n",
       "  <tbody>\n",
       "    <tr>\n",
       "      <th>0</th>\n",
       "      <td>48</td>\n",
       "    </tr>\n",
       "    <tr>\n",
       "      <th>1</th>\n",
       "      <td>57</td>\n",
       "    </tr>\n",
       "    <tr>\n",
       "      <th>2</th>\n",
       "      <td>40</td>\n",
       "    </tr>\n",
       "    <tr>\n",
       "      <th>3</th>\n",
       "      <td>43</td>\n",
       "    </tr>\n",
       "    <tr>\n",
       "      <th>4</th>\n",
       "      <td>44</td>\n",
       "    </tr>\n",
       "  </tbody>\n",
       "</table>\n",
       "</div>"
      ]
     },
     "execution_count": 63,
     "metadata": {},
     "output_type": "execute_result"
    }
   ],
   "execution_count": 63
  },
  {
   "metadata": {
    "ExecuteTime": {
     "end_time": "2025-05-25T14:42:34.128348Z",
     "start_time": "2025-05-25T14:42:34.110897Z"
    }
   },
   "cell_type": "code",
   "source": "df_subs.sum().values[0]\n",
   "id": "67cc8ceafc17ed0a",
   "outputs": [
    {
     "data": {
      "text/plain": [
       "49510"
      ]
     },
     "execution_count": 70,
     "metadata": {},
     "output_type": "execute_result"
    }
   ],
   "execution_count": 70
  },
  {
   "metadata": {
    "ExecuteTime": {
     "end_time": "2025-05-25T16:50:59.448498Z",
     "start_time": "2025-05-25T16:50:59.388310Z"
    }
   },
   "cell_type": "code",
   "source": "df_kohli['runs'].describe()",
   "id": "4bfae4bdce7c5226",
   "outputs": [
    {
     "data": {
      "text/plain": [
       "count    215.000000\n",
       "mean      30.855814\n",
       "std       26.229801\n",
       "min        0.000000\n",
       "25%        9.000000\n",
       "50%       24.000000\n",
       "75%       48.000000\n",
       "max      113.000000\n",
       "Name: runs, dtype: float64"
      ]
     },
     "execution_count": 73,
     "metadata": {},
     "output_type": "execute_result"
    }
   ],
   "execution_count": 73
  },
  {
   "metadata": {
    "ExecuteTime": {
     "end_time": "2025-05-25T16:54:33.810725Z",
     "start_time": "2025-05-25T16:54:33.793728Z"
    }
   },
   "cell_type": "code",
   "source": [
    "x=pd.Series([545,6465,64,8,5,58,69,89])\n",
    "x[1]"
   ],
   "id": "410b6e7592cf1727",
   "outputs": [
    {
     "data": {
      "text/plain": [
       "6465"
      ]
     },
     "execution_count": 77,
     "metadata": {},
     "output_type": "execute_result"
    }
   ],
   "execution_count": 77
  },
  {
   "metadata": {
    "ExecuteTime": {
     "end_time": "2025-05-25T17:14:00.294423Z",
     "start_time": "2025-05-25T17:14:00.073912Z"
    }
   },
   "cell_type": "code",
   "source": [
    "s2 = pd.Series([100, 200, 300], index=[-1, 0, 1])\n",
    "print(s2[-1])  # ✅ Output: 100 (because -1 is a label here)\n"
   ],
   "id": "eafb7c1d43c8a90",
   "outputs": [
    {
     "name": "stdout",
     "output_type": "stream",
     "text": [
      "100\n"
     ]
    }
   ],
   "execution_count": 79
  },
  {
   "metadata": {
    "ExecuteTime": {
     "end_time": "2025-05-25T17:19:47.123664Z",
     "start_time": "2025-05-25T17:19:47.101663Z"
    }
   },
   "cell_type": "code",
   "source": [
    "marks_series=pd.Series(marks)\n",
    "marks_series"
   ],
   "id": "93f8f5d990fe9031",
   "outputs": [
    {
     "data": {
      "text/plain": [
       "a    12\n",
       "b    13\n",
       "c    14\n",
       "d    15\n",
       "dtype: int64"
      ]
     },
     "execution_count": 86,
     "metadata": {},
     "output_type": "execute_result"
    }
   ],
   "execution_count": 86
  },
  {
   "metadata": {
    "ExecuteTime": {
     "end_time": "2025-05-25T17:26:10.176463Z",
     "start_time": "2025-05-25T17:26:10.139860Z"
    }
   },
   "cell_type": "code",
   "source": "marks_series['a']=545",
   "id": "4ade96cdcfbc0b52",
   "outputs": [],
   "execution_count": 89
  },
  {
   "metadata": {
    "ExecuteTime": {
     "end_time": "2025-05-25T17:30:09.044312Z",
     "start_time": "2025-05-25T17:30:09.029254Z"
    }
   },
   "cell_type": "code",
   "source": [
    "demo=marks_series>15\n",
    "print(demo)"
   ],
   "id": "2262fe07526c4969",
   "outputs": [
    {
     "name": "stdout",
     "output_type": "stream",
     "text": [
      "a     True\n",
      "b    False\n",
      "c    False\n",
      "d    False\n",
      "dtype: bool\n"
     ]
    }
   ],
   "execution_count": 96
  },
  {
   "metadata": {
    "ExecuteTime": {
     "end_time": "2025-05-25T17:28:44.048933Z",
     "start_time": "2025-05-25T17:28:44.014247Z"
    }
   },
   "cell_type": "code",
   "source": "marks_series[marks_series>15]",
   "id": "7115a31829976d89",
   "outputs": [
    {
     "data": {
      "text/plain": [
       "a    545\n",
       "dtype: int64"
      ]
     },
     "execution_count": 93,
     "metadata": {},
     "output_type": "execute_result"
    }
   ],
   "execution_count": 93
  },
  {
   "metadata": {
    "ExecuteTime": {
     "end_time": "2025-05-25T17:32:41.890432Z",
     "start_time": "2025-05-25T17:32:41.864434Z"
    }
   },
   "cell_type": "code",
   "source": [
    "import pandas as pd\n",
    "\n",
    "# Create a Series\n",
    "data = pd.Series([10, 15, 20, 25, 30], index=['a', 'b', 'c', 'd', 'e'])\n",
    "\n",
    "# Boolean condition\n",
    "condition = data > 20\n",
    "\n",
    "print(condition)\n"
   ],
   "id": "4c782a49b3932180",
   "outputs": [
    {
     "name": "stdout",
     "output_type": "stream",
     "text": [
      "a    False\n",
      "b    False\n",
      "c    False\n",
      "d     True\n",
      "e     True\n",
      "dtype: bool\n"
     ]
    }
   ],
   "execution_count": 105
  },
  {
   "metadata": {
    "ExecuteTime": {
     "end_time": "2025-05-25T17:34:26.912888Z",
     "start_time": "2025-05-25T17:34:26.902919Z"
    }
   },
   "cell_type": "code",
   "source": [
    "filtered=data[(data>20) & (data<30)]\n",
    "print(filtered)\n"
   ],
   "id": "887a4235a4b4730",
   "outputs": [
    {
     "name": "stdout",
     "output_type": "stream",
     "text": [
      "d    25\n",
      "dtype: int64\n"
     ]
    }
   ],
   "execution_count": 115
  },
  {
   "metadata": {},
   "cell_type": "markdown",
   "source": "## Ploting Graphs in Pandas",
   "id": "8720841e55213195"
  },
  {
   "metadata": {
    "ExecuteTime": {
     "end_time": "2025-05-25T17:35:40.200255Z",
     "start_time": "2025-05-25T17:35:39.048589Z"
    }
   },
   "cell_type": "code",
   "source": "df_subs.plot()",
   "id": "a4767fd51cd4ade5",
   "outputs": [
    {
     "data": {
      "text/plain": [
       "<Axes: >"
      ]
     },
     "execution_count": 117,
     "metadata": {},
     "output_type": "execute_result"
    },
    {
     "data": {
      "text/plain": [
       "<Figure size 640x480 with 1 Axes>"
      ],
      "image/png": "[encoded data removed]"
     },
     "metadata": {},
     "output_type": "display_data"
    }
   ],
   "execution_count": 117
  },
  {
   "metadata": {
    "ExecuteTime": {
     "end_time": "2025-05-25T17:38:52.272312Z",
     "start_time": "2025-05-25T17:38:52.066001Z"
    }
   },
   "cell_type": "code",
   "source": "df_movies['lead'].value_counts().head(20).plot(kind='pie')",
   "id": "ae92cffa8b98c56f",
   "outputs": [
    {
     "data": {
      "text/plain": [
       "<Axes: ylabel='count'>"
      ]
     },
     "execution_count": 124,
     "metadata": {},
     "output_type": "execute_result"
    },
    {
     "data": {
      "text/plain": [
       "<Figure size 640x480 with 1 Axes>"
      ],
      "image/png": "[encoded data removed]"
     },
     "metadata": {},
     "output_type": "display_data"
    }
   ],
   "execution_count": 124
  },
  {
   "metadata": {},
   "cell_type": "code",
   "outputs": [],
   "execution_count": null,
   "source": "",
   "id": "8b341fa85b4c1e45"
  }
 ],
 "metadata": {
  "kernelspec": {
   "display_name": "Python [conda env:GEN_AI_New]",
   "language": "python",
   "name": "conda-env-GEN_AI_New-py"
  },
  "language_info": {
   "codemirror_mode": {
    "name": "ipython",
    "version": 2
   },
   "file_extension": ".py",
   "mimetype": "text/x-python",
   "name": "python",
   "nbconvert_exporter": "python",
   "pygments_lexer": "ipython2",
   "version": "2.7.6"
  }
 },
 "nbformat": 4,
 "nbformat_minor": 5
}
