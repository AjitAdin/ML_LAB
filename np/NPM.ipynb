{
 "cells": [
  {
   "metadata": {
    "ExecuteTime": {
     "end_time": "2025-05-14T15:28:10.415201Z",
     "start_time": "2025-05-14T15:28:07.870808Z"
    }
   },
   "cell_type": "code",
   "source": [
    "import numpy as np\n",
    "\n",
    "import random\n",
    "\n",
    "from sympy.codegen.fnodes import dimension"
   ],
   "id": "65fc6c0a89626fee",
   "outputs": [],
   "execution_count": 98
  },
  {
   "metadata": {
    "ExecuteTime": {
     "end_time": "2025-05-14T13:50:44.340784Z",
     "start_time": "2025-05-14T13:50:44.317870Z"
    }
   },
   "cell_type": "code",
   "source": [
    "# Generate the 2d arrays\n",
    "arr=np.random.rand(3,3)\n",
    "print(arr)"
   ],
   "id": "30ecfc9df4c1168d",
   "outputs": [
    {
     "name": "stdout",
     "output_type": "stream",
     "text": [
      "[[0.02379972 0.14806624 0.41800119]\n",
      " [0.05606735 0.84682607 0.52649766]\n",
      " [0.32739949 0.51640788 0.74637722]]\n"
     ]
    }
   ],
   "execution_count": 5
  },
  {
   "metadata": {
    "ExecuteTime": {
     "end_time": "2025-05-14T13:52:11.681454Z",
     "start_time": "2025-05-14T13:52:11.660508Z"
    }
   },
   "cell_type": "code",
   "source": "np.max(arr,axis=0)",
   "id": "6a1df147ec72eb7c",
   "outputs": [
    {
     "data": {
      "text/plain": [
       "array([0.32739949, 0.84682607, 0.74637722])"
      ]
     },
     "execution_count": 8,
     "metadata": {},
     "output_type": "execute_result"
    }
   ],
   "execution_count": 8
  },
  {
   "metadata": {
    "ExecuteTime": {
     "end_time": "2025-05-14T13:52:42.986890Z",
     "start_time": "2025-05-14T13:52:42.968816Z"
    }
   },
   "cell_type": "code",
   "source": [
    "# Create a 2D array\n",
    "arr_2d = np.array([[1, 89, 3],\n",
    "                   [4, 5, 6]])\n",
    "\n",
    "# Max along axis 0 (columns)\n",
    "max_axis0 = np.max(arr_2d, axis=0)  # [4, 5, 6]\n",
    "# Max along axis 1 (rows)\n",
    "max_axis1 = np.max(arr_2d, axis=1)  # [3, 6]\n",
    "\n",
    "print(\"Max along axis 0:\", max_axis0)\n",
    "print(\"Max along axis 1:\", max_axis1)"
   ],
   "id": "b7c6b3bb66c13dad",
   "outputs": [
    {
     "name": "stdout",
     "output_type": "stream",
     "text": [
      "Max along axis 0: [ 4 89  6]\n",
      "Max along axis 1: [89  6]\n"
     ]
    }
   ],
   "execution_count": 10
  },
  {
   "metadata": {
    "ExecuteTime": {
     "end_time": "2025-05-14T13:54:32.346733Z",
     "start_time": "2025-05-14T13:54:32.325732Z"
    }
   },
   "cell_type": "code",
   "source": [
    "mean=np.mean(arr_2d, axis=0)[0]\n",
    "mean"
   ],
   "id": "95d31cd5ee7e76b8",
   "outputs": [
    {
     "data": {
      "text/plain": [
       "2.5"
      ]
     },
     "execution_count": 13,
     "metadata": {},
     "output_type": "execute_result"
    }
   ],
   "execution_count": 13
  },
  {
   "metadata": {},
   "cell_type": "markdown",
   "source": "Weighted mean",
   "id": "d87216bbf96fe92d"
  },
  {
   "metadata": {
    "ExecuteTime": {
     "end_time": "2025-05-14T14:00:11.511652Z",
     "start_time": "2025-05-14T14:00:11.479649Z"
    }
   },
   "cell_type": "code",
   "source": [
    "data=np.linspace(0,10,6)\n",
    "print(data)\n",
    "weights=np.random.rand(6)\n",
    "print(weights)\n",
    "weighted_sum=np.average(data,weights=weights)\n",
    "print(weighted_sum)"
   ],
   "id": "47df353ee44f53e1",
   "outputs": [
    {
     "name": "stdout",
     "output_type": "stream",
     "text": [
      "[ 0.  2.  4.  6.  8. 10.]\n",
      "[0.21526412 0.35124445 0.83287194 0.48523825 0.27357729 0.63016582]\n",
      "5.535753031826085\n"
     ]
    }
   ],
   "execution_count": 22
  },
  {
   "metadata": {
    "ExecuteTime": {
     "end_time": "2025-05-14T14:04:47.057599Z",
     "start_time": "2025-05-14T14:04:47.024550Z"
    }
   },
   "cell_type": "code",
   "source": [
    "arr=np.linspace(0,10,6)\n",
    "arr"
   ],
   "id": "bc73e49fae5cb09c",
   "outputs": [
    {
     "data": {
      "text/plain": [
       "array([ 0.,  2.,  4.,  6.,  8., 10.])"
      ]
     },
     "execution_count": 25,
     "metadata": {},
     "output_type": "execute_result"
    }
   ],
   "execution_count": 25
  },
  {
   "metadata": {
    "ExecuteTime": {
     "end_time": "2025-05-14T14:04:55.761918Z",
     "start_time": "2025-05-14T14:04:55.752930Z"
    }
   },
   "cell_type": "code",
   "source": "",
   "id": "4b8f174f6db2fbce",
   "outputs": [],
   "execution_count": null
  },
  {
   "metadata": {
    "ExecuteTime": {
     "end_time": "2025-05-14T14:11:06.988572Z",
     "start_time": "2025-05-14T14:11:06.909739Z"
    }
   },
   "cell_type": "code",
   "source": [
    "import numpy as np\n",
    "\n",
    "# Step 1: Create a population (e.g., 10000 people with random ages)\n",
    "np.random.seed(42)  # for reproducibility\n",
    "population = np.random.normal(loc=35, scale=10, size=10000)  # mean=35, std=10\n",
    "\n",
    "# Step 2: Take a random sample (e.g., 200 people)\n",
    "sample = np.random.choice(population, size=200, replace=False)\n",
    "\n",
    "# Step 3: Calculate population mean (μ) and sample mean (x̄)\n",
    "population_mean = np.mean(population)\n",
    "sample_mean = np.mean(sample)\n",
    "\n",
    "print(f\"Population Mean (μ): {population_mean:.2f}\")\n",
    "print(f\"Sample Mean (x̄): {sample_mean:.2f}\")\n"
   ],
   "id": "c7c7119946a10c91",
   "outputs": [
    {
     "name": "stdout",
     "output_type": "stream",
     "text": [
      "Population Mean (μ): 34.98\n",
      "Sample Mean (x̄): 36.06\n"
     ]
    }
   ],
   "execution_count": 29
  },
  {
   "metadata": {},
   "cell_type": "markdown",
   "source": [
    "You're absolutely right. In **NumPy**, the function `np.std()` includes the `ddof` (delta degrees of freedom) parameter, which directly controls whether you're computing the **population** or **sample** standard deviation.\n",
    "\n",
    "Here's a breakdown:\n",
    "\n",
    "---\n",
    "\n",
    "### 📌 **NumPy `np.std()` Parameters Relevant to Standard Deviation**\n",
    "\n",
    "```python\n",
    "numpy.std(a, axis=None, dtype=None, out=None, ddof=0, keepdims=<no value>)\n",
    "```\n",
    "\n",
    "---\n",
    "\n",
    "### 🔑 **Key Parameter: `ddof` (Degrees of Freedom)**\n",
    "\n",
    "* **`ddof=0`** (default):\n",
    "\n",
    "  * Calculates **population standard deviation**\n",
    "  * Divides by **N**\n",
    "  * Formula:\n",
    "\n",
    "    $$\n",
    "    \\sigma = \\sqrt{\\frac{1}{N} \\sum_{i=1}^{N} (x_i - \\mu)^2}\n",
    "    $$\n",
    "\n",
    "* **`ddof=1`**:\n",
    "\n",
    "  * Calculates **sample standard deviation**\n",
    "  * Divides by **N - 1** (Bessel’s correction)\n",
    "  * Formula:\n",
    "\n",
    "    $$\n",
    "    s = \\sqrt{\\frac{1}{n - 1} \\sum_{i=1}^{n} (x_i - \\bar{x})^2}\n",
    "    $$\n",
    "\n",
    "---\n",
    "\n",
    "### ✅ Example in Code\n",
    "\n",
    "\n",
    "---\n",
    "\n",
    "### ⚠️ Common Mistake\n",
    "\n",
    "* Forgetting to set `ddof=1` when working with **sample data**, leading to **underestimated variance**.\n",
    "\n",
    "---\n",
    "\n",
    "Let me know if you want this done in **Pandas**, or if you're comparing it with other tools like Excel, R, or SciPy.\n"
   ],
   "id": "5b3785842ed411e6"
  },
  {
   "metadata": {},
   "cell_type": "code",
   "outputs": [],
   "execution_count": null,
   "source": "",
   "id": "5653902b074f6442"
  },
  {
   "metadata": {
    "ExecuteTime": {
     "end_time": "2025-05-14T14:23:52.384889Z",
     "start_time": "2025-05-14T14:23:52.365574Z"
    }
   },
   "cell_type": "code",
   "source": [
    "arr=np.random.rand(4)\n",
    "exponential_values=np.exp(arr)\n",
    "print(exponential_values)"
   ],
   "id": "1cece0a59f4dc21d",
   "outputs": [
    {
     "name": "stdout",
     "output_type": "stream",
     "text": [
      "[1.16884799 1.1688198  1.0598036  2.37780108]\n"
     ]
    }
   ],
   "execution_count": 35
  },
  {
   "metadata": {
    "ExecuteTime": {
     "end_time": "2025-05-14T14:34:04.108783Z",
     "start_time": "2025-05-14T14:34:04.084777Z"
    }
   },
   "cell_type": "code",
   "source": [
    "import numpy as np\n",
    "\n",
    "# 2D array\n",
    "arr_2d = np.array([[1, 2, 3],\n",
    "                   [4, 5, 6],\n",
    "                   [7, 8, 9]])\n",
    "print(arr_2d[1,0])\n",
    "print(arr_2d[1,])\n"
   ],
   "id": "2c6a93cc93bae41f",
   "outputs": [
    {
     "name": "stdout",
     "output_type": "stream",
     "text": [
      "4\n",
      "[4 5 6]\n"
     ]
    }
   ],
   "execution_count": 37
  },
  {
   "metadata": {
    "ExecuteTime": {
     "end_time": "2025-05-14T14:37:21.691383Z",
     "start_time": "2025-05-14T14:37:21.668382Z"
    }
   },
   "cell_type": "code",
   "source": [
    "arr=np.linspace(0,10,6)\n",
    "print(arr)\n",
    "n=arr>2\n",
    "print(n)\n",
    "arr[n]\n"
   ],
   "id": "48d01cbf9eb8b8c4",
   "outputs": [
    {
     "name": "stdout",
     "output_type": "stream",
     "text": [
      "[ 0.  2.  4.  6.  8. 10.]\n",
      "[False False  True  True  True  True]\n"
     ]
    },
    {
     "data": {
      "text/plain": [
       "array([ 4.,  6.,  8., 10.])"
      ]
     },
     "execution_count": 41,
     "metadata": {},
     "output_type": "execute_result"
    }
   ],
   "execution_count": 41
  },
  {
   "metadata": {
    "ExecuteTime": {
     "end_time": "2025-05-14T14:41:23.823858Z",
     "start_time": "2025-05-14T14:41:23.630274Z"
    }
   },
   "cell_type": "code",
   "source": [
    "import numpy as np\n",
    "\n",
    "# create a numpy array\n",
    "numbers = np.array([2, 4, 6, 8, 10, 12])\n",
    "\n",
    "# slice the last 3 elements of the array\n",
    "# using the start parameter\n",
    "print(numbers[-3:])    # [8 10 12]\n",
    "\n",
    "# slice elements from 2nd-to-last to 4th-to-last element\n",
    "# using the start and stop parameters\n",
    "print(numbers[-5:-2])    # [4 6 8]\n",
    "\n",
    "# slice every other element of the array from the end\n",
    "# using the start, stop, and step parameters\n",
    "print(numbers[-1::-2])   # [12 8 4]"
   ],
   "id": "3887596301035af7",
   "outputs": [
    {
     "name": "stdout",
     "output_type": "stream",
     "text": [
      "[ 8 10 12]\n",
      "[4 6 8]\n",
      "[12  8  4]\n"
     ]
    }
   ],
   "execution_count": 42
  },
  {
   "metadata": {},
   "cell_type": "markdown",
   "source": [
    "2d array slicing\n",
    "Views vs. Copies: Slicing creates a view, but fancy indexing or boolean indexing creates a copy.\n",
    "\n"
   ],
   "id": "9feac86556bcb12c"
  },
  {
   "metadata": {
    "ExecuteTime": {
     "end_time": "2025-05-14T14:45:55.534648Z",
     "start_time": "2025-05-14T14:45:55.514278Z"
    }
   },
   "cell_type": "code",
   "source": [
    "import numpy as np\n",
    "\n",
    "# create a 2D array\n",
    "array1 = np.array([[1, 3, 5, 7],\n",
    "                      [9, 11, 13, 15],\n",
    "                      [2, 4, 6, 8]])\n",
    "\n",
    "print(array1[1:3,2:4])"
   ],
   "id": "c9571fd14ca28212",
   "outputs": [
    {
     "name": "stdout",
     "output_type": "stream",
     "text": [
      "[[13 15]\n",
      " [ 6  8]]\n"
     ]
    }
   ],
   "execution_count": 44
  },
  {
   "metadata": {},
   "cell_type": "markdown",
   "source": "FANCY INDEXING",
   "id": "10fe1445adc5eb48"
  },
  {
   "metadata": {
    "ExecuteTime": {
     "end_time": "2025-05-14T14:50:48.040130Z",
     "start_time": "2025-05-14T14:50:48.006848Z"
    }
   },
   "cell_type": "code",
   "source": [
    "arr2d = np.array([[10, 20],\n",
    "                  [30, 40],\n",
    "                  [50, 60]])\n",
    "\n",
    "rows = [0, 1, 2]\n",
    "cols = [0]\n",
    "\n",
    "print(arr2d[rows, cols])  # Output: [20 30 60]\n"
   ],
   "id": "dc18eef470b6f623",
   "outputs": [
    {
     "name": "stdout",
     "output_type": "stream",
     "text": [
      "[10 30 50]\n"
     ]
    }
   ],
   "execution_count": 46
  },
  {
   "metadata": {
    "ExecuteTime": {
     "end_time": "2025-05-14T14:51:24.047779Z",
     "start_time": "2025-05-14T14:51:24.025780Z"
    }
   },
   "cell_type": "code",
   "source": [
    "rows = [0]\n",
    "cols = [0,1]\n",
    "\n",
    "print(arr2d[rows, cols])"
   ],
   "id": "dfb67f6a74e494ab",
   "outputs": [
    {
     "name": "stdout",
     "output_type": "stream",
     "text": [
      "[10 20]\n"
     ]
    }
   ],
   "execution_count": 49
  },
  {
   "metadata": {
    "ExecuteTime": {
     "end_time": "2025-05-14T14:52:10.476132Z",
     "start_time": "2025-05-14T14:52:10.458180Z"
    }
   },
   "cell_type": "code",
   "source": [
    "rows = [0,2]\n",
    "cols = [1,0]\n",
    "\n",
    "print(arr2d[rows, cols])"
   ],
   "id": "499141b04a16ddc2",
   "outputs": [
    {
     "name": "stdout",
     "output_type": "stream",
     "text": [
      "[20 50]\n"
     ]
    }
   ],
   "execution_count": 52
  },
  {
   "metadata": {
    "ExecuteTime": {
     "end_time": "2025-05-14T14:55:22.961923Z",
     "start_time": "2025-05-14T14:55:22.935089Z"
    }
   },
   "cell_type": "code",
   "source": [
    "arr_2d = np.array([[1, 2], [3, 4]])\n",
    "print(arr_2d)\n",
    "for i in np.nditer(arr_2d):#in flattend way\n",
    "    print(i)"
   ],
   "id": "c06d93bbb8b9a21f",
   "outputs": [
    {
     "name": "stdout",
     "output_type": "stream",
     "text": [
      "[[1 2]\n",
      " [3 4]]\n",
      "1\n",
      "2\n",
      "3\n",
      "4\n"
     ]
    }
   ],
   "execution_count": 56
  },
  {
   "metadata": {},
   "cell_type": "markdown",
   "source": [
    "Reshape (np.reshape): Changes the shape of an array (e.g., from 1D to 2D).\n",
    "\n",
    "\n",
    "Transpose (np.transpose or .T): Swaps axes (e.g., rows become columns).\n",
    "\n",
    "\n",
    "Ravel (np.ravel): Flattens a multi-dimensional array into a 1D array."
   ],
   "id": "1ad1be1e616eb736"
  },
  {
   "metadata": {
    "ExecuteTime": {
     "end_time": "2025-05-14T15:01:21.555050Z",
     "start_time": "2025-05-14T15:01:21.533956Z"
    }
   },
   "cell_type": "code",
   "source": [
    "arr=np.arange(1,10)\n",
    "print(\"original array: \",arr)\n",
    "reshaped=arr.reshape(3,3)\n",
    "reshaped"
   ],
   "id": "5ecadb7f383377e1",
   "outputs": [
    {
     "name": "stdout",
     "output_type": "stream",
     "text": [
      "original array:  [1 2 3 4 5 6 7 8 9]\n"
     ]
    },
    {
     "data": {
      "text/plain": [
       "array([[1, 2, 3],\n",
       "       [4, 5, 6],\n",
       "       [7, 8, 9]])"
      ]
     },
     "execution_count": 65,
     "metadata": {},
     "output_type": "execute_result"
    }
   ],
   "execution_count": 65
  },
  {
   "metadata": {
    "ExecuteTime": {
     "end_time": "2025-05-14T15:01:30.141632Z",
     "start_time": "2025-05-14T15:01:30.132303Z"
    }
   },
   "cell_type": "code",
   "source": [
    "transpose=reshaped.T\n",
    "transpose"
   ],
   "id": "1a5f8b49d1c35162",
   "outputs": [
    {
     "data": {
      "text/plain": [
       "array([[1, 4, 7],\n",
       "       [2, 5, 8],\n",
       "       [3, 6, 9]])"
      ]
     },
     "execution_count": 66,
     "metadata": {},
     "output_type": "execute_result"
    }
   ],
   "execution_count": 66
  },
  {
   "metadata": {
    "ExecuteTime": {
     "end_time": "2025-05-14T15:02:30.404039Z",
     "start_time": "2025-05-14T15:02:30.365831Z"
    }
   },
   "cell_type": "code",
   "source": "np.ravel(transpose)",
   "id": "bfa6c793bafd17f5",
   "outputs": [
    {
     "data": {
      "text/plain": [
       "array([1, 4, 7, 2, 5, 8, 3, 6, 9])"
      ]
     },
     "execution_count": 67,
     "metadata": {},
     "output_type": "execute_result"
    }
   ],
   "execution_count": 67
  },
  {
   "metadata": {
    "ExecuteTime": {
     "end_time": "2025-05-14T15:04:52.574782Z",
     "start_time": "2025-05-14T15:04:52.552784Z"
    }
   },
   "cell_type": "code",
   "source": [
    "arr = np.array([1, 2, 3, 4, 5, 6])\n",
    "reshaped = arr.reshape(2, -1)  # Infers 3 columns ie numpy figures out internally\n",
    "print(\"Reshaped with -1:\\n\", reshaped)  # [[1, 2, 3], [4, 5, 6]]"
   ],
   "id": "d3b7fc59ac1551f1",
   "outputs": [
    {
     "name": "stdout",
     "output_type": "stream",
     "text": [
      "Reshaped with -1:\n",
      " [[1 2 3]\n",
      " [4 5 6]]\n"
     ]
    }
   ],
   "execution_count": 70
  },
  {
   "metadata": {
    "ExecuteTime": {
     "end_time": "2025-05-14T15:20:47.707655Z",
     "start_time": "2025-05-14T15:20:47.685380Z"
    }
   },
   "cell_type": "code",
   "source": [
    "arr_3d=np.array(\n",
    "[\n",
    "  [ [1, 2], [3, 4] ],   # Block 0\n",
    "  [ [5, 6], [7, 8] ]    # Block 1\n",
    "]\n",
    ")\n",
    "\n",
    "arr_3d.shape"
   ],
   "id": "bd3018f5b23b0bfa",
   "outputs": [
    {
     "data": {
      "text/plain": [
       "(2, 2, 2)"
      ]
     },
     "execution_count": 89,
     "metadata": {},
     "output_type": "execute_result"
    }
   ],
   "execution_count": 89
  },
  {
   "metadata": {
    "ExecuteTime": {
     "end_time": "2025-05-14T15:20:27.342941Z",
     "start_time": "2025-05-14T15:20:27.308455Z"
    }
   },
   "cell_type": "code",
   "source": "arr_3d[0]",
   "id": "7cc6fda29211e738",
   "outputs": [
    {
     "data": {
      "text/plain": [
       "array([[1, 2],\n",
       "       [3, 4]])"
      ]
     },
     "execution_count": 87,
     "metadata": {},
     "output_type": "execute_result"
    }
   ],
   "execution_count": 87
  },
  {
   "metadata": {},
   "cell_type": "markdown",
   "source": [
    "vstack (np.vstack): Stacks arrays vertically (row-wise, along axis 0).\n",
    "hstack (np.hstack): Stacks arrays horizontally (column-wise, along axis 1)."
   ],
   "id": "fa75bb629e48a67"
  },
  {
   "metadata": {
    "ExecuteTime": {
     "end_time": "2025-05-14T15:23:07.191517Z",
     "start_time": "2025-05-14T15:23:07.159083Z"
    }
   },
   "cell_type": "code",
   "source": [
    "# Create two arrays\n",
    "a = np.array([[1, 2], [3, 4]])\n",
    "b = np.array([[5, 6], [7, 8]])\n",
    "\n",
    "# Vertical stacking\n",
    "v_stack = np.vstack((a, b))\n",
    "v_stack"
   ],
   "id": "61093f62930b3af4",
   "outputs": [
    {
     "data": {
      "text/plain": [
       "array([[1, 2],\n",
       "       [3, 4],\n",
       "       [5, 6],\n",
       "       [7, 8]])"
      ]
     },
     "execution_count": 91,
     "metadata": {},
     "output_type": "execute_result"
    }
   ],
   "execution_count": 91
  },
  {
   "metadata": {
    "ExecuteTime": {
     "end_time": "2025-05-14T15:23:54.707792Z",
     "start_time": "2025-05-14T15:23:54.682790Z"
    }
   },
   "cell_type": "code",
   "source": [
    "h_stack=np.hstack((a, b))\n",
    "h_stack"
   ],
   "id": "af7f176dd7515671",
   "outputs": [
    {
     "data": {
      "text/plain": [
       "array([[1, 2, 5, 6],\n",
       "       [3, 4, 7, 8]])"
      ]
     },
     "execution_count": 92,
     "metadata": {},
     "output_type": "execute_result"
    }
   ],
   "execution_count": 92
  },
  {
   "metadata": {
    "ExecuteTime": {
     "end_time": "2025-05-14T15:24:53.547997Z",
     "start_time": "2025-05-14T15:24:53.526996Z"
    }
   },
   "cell_type": "code",
   "source": [
    "a = np.array([1, 2])\n",
    "b = np.array([3, 4])\n",
    "v_stack = np.vstack((a, b))  # [[1, 2], [3, 4]]\n",
    "h_stack = np.hstack((a, b))  # [1, 2, 3, 4]\n",
    "print(\"vstack 1D:\\n\", v_stack)\n",
    "print(\"hstack 1D:\", h_stack)"
   ],
   "id": "83689022573860da",
   "outputs": [
    {
     "name": "stdout",
     "output_type": "stream",
     "text": [
      "vstack 1D:\n",
      " [[1 2]\n",
      " [3 4]]\n",
      "hstack 1D: [1 2 3 4]\n"
     ]
    }
   ],
   "execution_count": 94
  },
  {
   "metadata": {},
   "cell_type": "markdown",
   "source": [
    "5. Splitting - hsplit, vsplit\n",
    "Splitting divides an array into multiple smaller arrays along a specified axis.\n",
    "\n",
    "Basics\n",
    "hsplit (np.hsplit): Splits an array horizontally (column-wise, along axis 1).\n",
    "vsplit (np.vsplit): Splits an array vertically (row-wise, along axis 0)."
   ],
   "id": "8502a36e4d12f446"
  },
  {
   "metadata": {
    "ExecuteTime": {
     "end_time": "2025-05-14T15:30:51.986234Z",
     "start_time": "2025-05-14T15:30:51.902752Z"
    }
   },
   "cell_type": "code",
   "source": [
    "import numpy as np\n",
    "\n",
    "# Create a 2D array (3 rows and 6 columns)\n",
    "arr = np.array([[1, 2, 3, 4, 5, 6],\n",
    "                [7, 8, 9, 10, 11, 12],\n",
    "                [13, 14, 15, 16, 17, 18]])\n",
    "\n",
    "# Split the array into 3 sub-arrays along axis=1 (columns)\n",
    "split_arr = np.hsplit(arr, 3)\n",
    "\n",
    "print(split_arr)\n",
    "\n",
    "\n",
    "# The array was split into 3 sub-arrays along the horizontal axis (i.e., columns)."
   ],
   "id": "8e39c62fd44a751b",
   "outputs": [
    {
     "name": "stdout",
     "output_type": "stream",
     "text": [
      "[array([[ 1,  2],\n",
      "       [ 7,  8],\n",
      "       [13, 14]]), array([[ 3,  4],\n",
      "       [ 9, 10],\n",
      "       [15, 16]]), array([[ 5,  6],\n",
      "       [11, 12],\n",
      "       [17, 18]])]\n"
     ]
    }
   ],
   "execution_count": 102
  },
  {
   "metadata": {
    "ExecuteTime": {
     "end_time": "2025-05-14T15:31:30.653135Z",
     "start_time": "2025-05-14T15:31:30.603351Z"
    }
   },
   "cell_type": "code",
   "source": [
    "arr = np.array([[1, 2, 3, 4],\n",
    "                [5, 6, 7, 8],\n",
    "                [9, 10, 11, 12]])\n",
    "\n",
    "# Split the array into 3 sub-arrays along axis=0 (rows)\n",
    "split_arr = np.vsplit(arr, 3)\n",
    "\n",
    "print(split_arr)\n"
   ],
   "id": "2f2b3136884cae8c",
   "outputs": [
    {
     "name": "stdout",
     "output_type": "stream",
     "text": [
      "[array([[1, 2, 3, 4]]), array([[5, 6, 7, 8]]), array([[ 9, 10, 11, 12]])]\n"
     ]
    }
   ],
   "execution_count": 103
  },
  {
   "metadata": {},
   "cell_type": "code",
   "outputs": [],
   "execution_count": null,
   "source": "",
   "id": "7bd03ed92b70f3df"
  }
 ],
 "metadata": {
  "kernelspec": {
   "display_name": "Python [conda env:GEN_AI_New-2]",
   "language": "python",
   "name": "conda-env-GEN_AI_New-2-py"
  },
  "language_info": {
   "codemirror_mode": {
    "name": "ipython",
    "version": 2
   },
   "file_extension": ".py",
   "mimetype": "text/x-python",
   "name": "python",
   "nbconvert_exporter": "python",
   "pygments_lexer": "ipython2",
   "version": "2.7.6"
  }
 },
 "nbformat": 4,
 "nbformat_minor": 5
}
