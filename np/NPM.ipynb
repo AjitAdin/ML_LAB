{
 "cells": [
  {
   "metadata": {
    "ExecuteTime": {
     "end_time": "2025-05-14T13:40:05.025326Z",
     "start_time": "2025-05-14T13:40:05.009321Z"
    }
   },
   "cell_type": "code",
   "source": [
    "import numpy as np\n",
    "\n",
    "import random"
   ],
   "id": "65fc6c0a89626fee",
   "outputs": [],
   "execution_count": 13
  },
  {
   "metadata": {
    "ExecuteTime": {
     "end_time": "2025-05-14T13:40:40.545192Z",
     "start_time": "2025-05-14T13:40:40.520911Z"
    }
   },
   "cell_type": "code",
   "source": [
    "# Generate the 2d arrays\n",
    "arr=np.random.rand(3,3)\n",
    "print(arr)"
   ],
   "id": "30ecfc9df4c1168d",
   "outputs": [
    {
     "name": "stdout",
     "output_type": "stream",
     "text": [
      "[[0.66918209 0.25409658 0.46696694]\n",
      " [0.6214499  0.3452359  0.79601439]\n",
      " [0.58337049 0.43760668 0.59643536]]\n"
     ]
    }
   ],
   "execution_count": 14
  },
  {
   "metadata": {
    "ExecuteTime": {
     "end_time": "2025-05-14T13:40:44.789781Z",
     "start_time": "2025-05-14T13:40:44.782777Z"
    }
   },
   "cell_type": "code",
   "source": "",
   "id": "6a1df147ec72eb7c",
   "outputs": [],
   "execution_count": null
  },
  {
   "metadata": {},
   "cell_type": "code",
   "outputs": [],
   "execution_count": null,
   "source": "",
   "id": "b7c6b3bb66c13dad"
  }
 ],
 "metadata": {
  "kernelspec": {
   "display_name": "Python [conda env:GEN_AI_New-2]",
   "language": "python",
   "name": "conda-env-GEN_AI_New-2-py"
  },
  "language_info": {
   "codemirror_mode": {
    "name": "ipython",
    "version": 2
   },
   "file_extension": ".py",
   "mimetype": "text/x-python",
   "name": "python",
   "nbconvert_exporter": "python",
   "pygments_lexer": "ipython2",
   "version": "2.7.6"
  }
 },
 "nbformat": 4,
 "nbformat_minor": 5
}
