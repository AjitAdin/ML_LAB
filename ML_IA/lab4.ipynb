{
 "cells": [
  {
   "cell_type": "code",
   "execution_count": null,
   "id": "8c8a7b58",
   "metadata": {},
   "outputs": [],
   "source": [
    "def find_s_algorithm(file_path):\n",
    "    data = pd.read_csv(file_path)\n",
    "\n",
    "    print(\"Training data:\")\n",
    "    print(data)\n",
    "\n",
    "    attributes = data.columns[:-1]\n",
    "    class_label = data.columns[-1]\n",
    "\n",
    "    hypothesis = ['?' for _ in attributes]\n",
    "\n",
    "    for index, row in data.iterrows():\n",
    "        if row[class_label] == 'Yes':\n",
    "            for i, value in enumerate(row[attributes]):\n",
    "                if hypothesis[i] == '?' or hypothesis[i] == value:\n",
    "                    hypothesis[i] = value\n",
    "                else:\n",
    "                    hypothesis[i] = '?'\n",
    "\n",
    "    return hypothesis\n",
    "\n",
    "\n",
    "file_path = 'training_data.csv'\n",
    "hypothesis = find_s_algorithm(file_path)\n",
    "print(\"\\nThe final hypothesis is:\", hypothesis)"
   ]
  },
  {
   "cell_type": "code",
   "execution_count": null,
   "id": "5e187d84",
   "metadata": {},
   "outputs": [],
   "source": [
    "# "
   ]
  }
 ],
 "metadata": {
  "kernelspec": {
   "display_name": "Python 3",
   "language": "python",
   "name": "python3"
  },
  "language_info": {
   "codemirror_mode": {
    "name": "ipython",
    "version": 3
   },
   "file_extension": ".py",
   "mimetype": "text/x-python",
   "name": "python",
   "nbconvert_exporter": "python",
   "pygments_lexer": "ipython3",
   "version": "3.10.16"
  }
 },
 "nbformat": 4,
 "nbformat_minor": 5
}
