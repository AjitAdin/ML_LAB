{
 "cells": [
  {
   "cell_type": "code",
   "execution_count": null,
   "id": "063ff995",
   "metadata": {},
   "outputs": [],
   "source": [
    "import numpy as np\n",
    "import matplotlib.pyplot as plt\n",
    "\n",
    "# Generate data\n",
    "np.random.seed(0)\n",
    "x = np.linspace(0, 1, 100)\n",
    "y = np.sin(2 * np.pi * x) + 0.1 * np.random.randn(100)\n",
    "\n",
    "# LWR function\n",
    "def lwr(x_query, x_train, y_train, tau):\n",
    "    weights = np.exp(-((x_train - x_query) ** 2) / (2 * tau ** 2))\n",
    "    A = np.vstack([np.ones_like(x_train), x_train]).T\n",
    "    W = np.diag(weights)\n",
    "    theta = np.linalg.pinv(A.T @ W @ A) @ (A.T @ W @ y_train)\n",
    "    return np.dot([1, x_query], theta)\n",
    "\n",
    "# Predict\n",
    "tau = 0.1\n",
    "x_test = np.linspace(0, 1, 300)\n",
    "y_test = [lwr(xq, x, y, tau) for xq in x_test]\n",
    "\n",
    "# Plot\n",
    "plt.scatter(x, y, label=\"Data\", color='blue')\n",
    "plt.plot(x_test, y_test, label=\"LWR\", color='red')\n",
    "plt.title(\"Locally Weighted Regression\")\n",
    "plt.legend()\n",
    "plt.grid(True)\n",
    "plt.show()\n"
   ]
  }
 ],
 "metadata": {
  "language_info": {
   "name": "python"
  }
 },
 "nbformat": 4,
 "nbformat_minor": 5
}
