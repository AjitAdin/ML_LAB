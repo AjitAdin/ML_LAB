{
 "cells": [
  {
   "cell_type": "code",
   "execution_count": 4,
   "id": "5a541719",
   "metadata": {},
   "outputs": [],
   "source": [
    "from sklearn.datasets import make_classification,make_regression\n",
    "\n"
   ]
  },
  {
   "cell_type": "code",
   "execution_count": 15,
   "id": "d928c715",
   "metadata": {},
   "outputs": [
    {
     "data": {
      "text/plain": [
       "{'KNN Accuracy': 0.5,\n",
       " 'Naive Bayes Accuracy': 0.48,\n",
       " 'Linear Regression MSE': 97.09917751915482,\n",
       " 'Polynomial Regression MSE': 110.28455180008305}"
      ]
     },
     "execution_count": 15,
     "metadata": {},
     "output_type": "execute_result"
    }
   ],
   "source": [
    "from sklearn.datasets import make_classification, make_regression\n",
    "from sklearn.decomposition import PCA\n",
    "from sklearn.model_selection import train_test_split\n",
    "from sklearn.neighbors import KNeighborsClassifier\n",
    "from sklearn.linear_model import LinearRegression\n",
    "from sklearn.preprocessing import PolynomialFeatures\n",
    "from sklearn.naive_bayes import GaussianNB\n",
    "from sklearn.metrics import accuracy_score, mean_squared_error\n",
    "import numpy as np\n",
    "import pandas as pd\n",
    "\n",
    "# 1. Generate synthetic datasets\n",
    "X_class, y_class = make_classification(n_samples=500, n_features=10, n_informative=5, n_classes=3, random_state=42)\n",
    "X_reg, y_reg = make_regression(n_samples=500, n_features=10, noise=10, random_state=42)\n",
    "\n",
    "# Split datasets\n",
    "Xc_train, Xc_test, yc_train, yc_test = train_test_split(X_class, y_class, test_size=0.2, random_state=42)\n",
    "Xr_train, Xr_test, yr_train, yr_test = train_test_split(X_reg, y_reg, test_size=0.2, random_state=42)\n",
    "\n",
    "# 2. Dimensionality Reduction - PCA\n",
    "pca = PCA(n_components=2)\n",
    "Xc_train_pca = pca.fit_transform(Xc_train)\n",
    "Xc_test_pca = pca.transform(Xc_test)\n",
    "\n",
    "# 3. Classification using k-Nearest Neighbour\n",
    "knn = KNeighborsClassifier(n_neighbors=3)\n",
    "knn.fit(Xc_train_pca, yc_train)\n",
    "knn_preds = knn.predict(Xc_test_pca)\n",
    "knn_acc = accuracy_score(yc_test, knn_preds)\n",
    "\n",
    "# 4. Classification using Naive Bayes\n",
    "nb = GaussianNB()\n",
    "nb.fit(Xc_train_pca, yc_train)\n",
    "nb_preds = nb.predict(Xc_test_pca)\n",
    "nb_acc = accuracy_score(yc_test, nb_preds)\n",
    "\n",
    "# 5. Regression using Linear Regression\n",
    "linreg = LinearRegression()\n",
    "linreg.fit(Xr_train, yr_train)\n",
    "linreg_preds = linreg.predict(Xr_test)\n",
    "linreg_mse = mean_squared_error(yr_test, linreg_preds)\n",
    "\n",
    "# 6. Regression using Polynomial Regression\n",
    "poly = PolynomialFeatures(degree=2)\n",
    "Xr_train_poly = poly.fit_transform(Xr_train)\n",
    "Xr_test_poly = poly.transform(Xr_test)\n",
    "polyreg = LinearRegression()\n",
    "polyreg.fit(Xr_train_poly, yr_train)\n",
    "poly_preds = polyreg.predict(Xr_test_poly)\n",
    "poly_mse = mean_squared_error(yr_test, poly_preds)\n",
    "\n",
    "# Collect results\n",
    "{\n",
    "    \"KNN Accuracy\": knn_acc,\n",
    "    \"Naive Bayes Accuracy\": nb_acc,\n",
    "    \"Linear Regression MSE\": linreg_mse,\n",
    "    \"Polynomial Regression MSE\": poly_mse\n",
    "}\n",
    "\n"
   ]
  },
  {
   "cell_type": "code",
   "execution_count": null,
   "id": "c858f110",
   "metadata": {},
   "outputs": [],
   "source": []
  },
  {
   "cell_type": "code",
   "execution_count": null,
   "id": "7057405e",
   "metadata": {},
   "outputs": [],
   "source": []
  }
 ],
 "metadata": {
  "kernelspec": {
   "display_name": "Python 3",
   "language": "python",
   "name": "python3"
  },
  "language_info": {
   "codemirror_mode": {
    "name": "ipython",
    "version": 3
   },
   "file_extension": ".py",
   "mimetype": "text/x-python",
   "name": "python",
   "nbconvert_exporter": "python",
   "pygments_lexer": "ipython3",
   "version": "3.10.16"
  }
 },
 "nbformat": 4,
 "nbformat_minor": 5
}
