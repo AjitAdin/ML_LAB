{
 "cells": [
  {
   "cell_type": "code",
   "execution_count": 1,
   "id": "99279a6c",
   "metadata": {},
   "outputs": [
    {
     "name": "stdout",
     "output_type": "stream",
     "text": [
      "Test data points and Predicted Points \n",
      "Test Point: 0.06355835028602363, Predicted Point: 1 ,actul point: 1\n",
      "Test Point: 0.8948273504276488, Predicted Point: 2 ,actul point: 2\n",
      "Test Point: 0.7722447692966574, Predicted Point: 2 ,actul point: 2\n",
      "Test Point: 0.662522284353982, Predicted Point: 2 ,actul point: 2\n",
      "Test Point: 0.2587799816000169, Predicted Point: 1 ,actul point: 1\n",
      "Test Point: 0.4401524937396013, Predicted Point: 1 ,actul point: 1\n",
      "Test Point: 0.29214464853521815, Predicted Point: 1 ,actul point: 1\n",
      "Test Point: 0.8631034258755935, Predicted Point: 2 ,actul point: 2\n",
      "Test Point: 0.020584494295802447, Predicted Point: 1 ,actul point: 1\n",
      "Test Point: 0.3745401188473625, Predicted Point: 1 ,actul point: 1\n",
      "Test Point: 0.43194501864211576, Predicted Point: 1 ,actul point: 1\n",
      "Test Point: 0.6075448519014384, Predicted Point: 2 ,actul point: 2\n",
      "Test Point: 0.8154614284548342, Predicted Point: 2 ,actul point: 2\n",
      "Test Point: 0.9488855372533332, Predicted Point: 2 ,actul point: 2\n",
      "Test Point: 0.1195942459383017, Predicted Point: 1 ,actul point: 1\n",
      "Test Point: 0.15601864044243652, Predicted Point: 1 ,actul point: 1\n",
      "Test Point: 0.7712703466859457, Predicted Point: 2 ,actul point: 2\n",
      "Test Point: 0.07404465173409036, Predicted Point: 1 ,actul point: 1\n",
      "Test Point: 0.8324426408004217, Predicted Point: 2 ,actul point: 2\n",
      "Test Point: 0.17052412368729153, Predicted Point: 1 ,actul point: 1\n",
      "Test Point: 0.9218742350231168, Predicted Point: 2 ,actul point: 2\n",
      "Test Point: 0.8872127425763265, Predicted Point: 2 ,actul point: 2\n",
      "Test Point: 0.19967378215835974, Predicted Point: 1 ,actul point: 1\n",
      "Test Point: 0.034388521115218396, Predicted Point: 1 ,actul point: 1\n",
      "Test Point: 0.9868869366005173, Predicted Point: 2 ,actul point: 2\n",
      "Test Point: 0.18340450985343382, Predicted Point: 1 ,actul point: 1\n",
      "Test Point: 0.12203823484477883, Predicted Point: 1 ,actul point: 1\n",
      "Test Point: 0.5227328293819941, Predicted Point: 2 ,actul point: 2\n",
      "Test Point: 0.7080725777960455, Predicted Point: 2 ,actul point: 2\n",
      "Test Point: 0.005522117123602399, Predicted Point: 1 ,actul point: 1\n"
     ]
    },
    {
     "data": {
      "text/plain": [
       "<matplotlib.collections.PathCollection at 0x20acc0b8550>"
      ]
     },
     "execution_count": 1,
     "metadata": {},
     "output_type": "execute_result"
    },
    {
     "data": {
      "image/png": "[encoded data removed]",
      "text/plain": [
       "<Figure size 800x600 with 1 Axes>"
      ]
     },
     "metadata": {},
     "output_type": "display_data"
    }
   ],
   "source": [
    "import numpy as np\n",
    "import matplotlib.pyplot as plt\n",
    "from sklearn.neighbors import KNeighborsClassifier\n",
    "from sklearn.model_selection import train_test_split\n",
    "\n",
    "# Step 1: Generate 100 random values for x in the range [0, 1]\n",
    "np.random.seed(42)  # For reproducibility\n",
    "x = np.random.rand(100, 1)\n",
    "\n",
    "# Step 2: Label the points\n",
    "y = np.array([1 if xi <= 0.5 else 2 for xi in x])\n",
    "\n",
    "# Step 3: Split the dataset into training and testing sets\n",
    "X_train, X_test, y_train, y_test = train_test_split(x, y, test_size=0.3, random_state=42)\n",
    "\n",
    "# Step 4: Initialize the k-NN classifier\n",
    "k = 3  # You can experiment with different values of k\n",
    "knn = KNeighborsClassifier(n_neighbors=k)\n",
    "\n",
    "# Step 5: Train the model\n",
    "knn.fit(X_train, y_train)\n",
    "\n",
    "# Step 6: Test the model\n",
    "y_pred = knn.predict(X_test)\n",
    "\n",
    "# Step 7: Evaluate the model\n",
    "\n",
    "from sklearn.metrics import accuracy_score\n",
    "accuracy_score(y_test,y_pred)\n",
    "\n",
    "print(\"Test data points and Predicted Points \")\n",
    "for i in range(len(X_test)):\n",
    "    print(f\"Test Point: {X_test[i][0]}, Predicted Point: {y_pred[i]} ,actul point: {y_test[i]}\")\n",
    "\n",
    "\n",
    "\n",
    "\n",
    "\n",
    "\n",
    "\n",
    "plt.figure(figsize=(8, 6))\n",
    "plt.scatter(X_train, y_train, color='blue', label='Training Data')\n",
    "plt.scatter(X_test, y_pred, color='red', label='Predicted Data')"
   ]
  },
  {
   "cell_type": "code",
   "execution_count": null,
   "id": "f1f138eb",
   "metadata": {},
   "outputs": [],
   "source": []
  },
  {
   "cell_type": "code",
   "execution_count": null,
   "id": "256cc800",
   "metadata": {},
   "outputs": [],
   "source": []
  },
  {
   "cell_type": "code",
   "execution_count": null,
   "id": "c71856d1",
   "metadata": {},
   "outputs": [],
   "source": [
    "\n"
   ]
  },
  {
   "cell_type": "code",
   "execution_count": null,
   "id": "d1b9f72a",
   "metadata": {},
   "outputs": [],
   "source": []
  }
 ],
 "metadata": {
  "kernelspec": {
   "display_name": "Python 3",
   "language": "python",
   "name": "python3"
  },
  "language_info": {
   "codemirror_mode": {
    "name": "ipython",
    "version": 3
   },
   "file_extension": ".py",
   "mimetype": "text/x-python",
   "name": "python",
   "nbconvert_exporter": "python",
   "pygments_lexer": "ipython3",
   "version": "3.10.16"
  }
 },
 "nbformat": 4,
 "nbformat_minor": 5
}
