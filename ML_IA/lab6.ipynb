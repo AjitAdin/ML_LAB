{
 "cells": [
  {
   "cell_type": "code",
   "execution_count": null,
   "id": "f9429a4b",
   "metadata": {},
   "outputs": [],
   "source": [
    "import numpy as np\n",
    "import matplotlib.pyplot as plt\n",
    "from statsmodels.nonparametric.smoothers_lowess import lowess\n",
    "\n",
    "# Generate simple synthetic data\n",
    "np.random.seed(0)\n",
    "X = np.linspace(-3, 3, 100)\n",
    "y = np.sinc(X) + 0.1 * np.random.randn(100)  # noisy sinc function\n",
    "\n",
    "# Use LOWESS smoothing\n",
    "# frac parameter controls the amount of smoothing (similar to bandwidth)\n",
    "smoothed = lowess(y, X, frac=0.3)\n",
    "\n",
    "# Extract smoothed x and y\n",
    "X_smooth = smoothed[:, 0]\n",
    "y_smooth = smoothed[:, 1]\n",
    "\n",
    "# Plot original data and LOWESS fit\n",
    "plt.scatter(X, y, color='blue', label='Data')\n",
    "plt.plot(X_smooth, y_smooth, color='red', label='LOWESS Fit')\n",
    "plt.title(\"Locally Weighted Regression via LOWESS\")\n",
    "plt.xlabel(\"X\")\n",
    "plt.ylabel(\"y\")\n",
    "plt.legend()\n",
    "plt.grid(True)\n",
    "plt.show()\n"
   ]
  }
 ],
 "metadata": {
  "language_info": {
   "name": "python"
  }
 },
 "nbformat": 4,
 "nbformat_minor": 5
}
