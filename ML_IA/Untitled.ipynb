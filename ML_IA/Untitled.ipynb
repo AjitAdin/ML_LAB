{
 "cells": [
  {
   "cell_type": "code",
   "execution_count": null,
   "id": "fc8156b2",
   "metadata": {},
   "outputs": [],
   "source": [
    "import numpy as np\n",
    "import pandas as pd\n",
    "import matplotlib.pyplot as plt\n",
    "from sklearn.datasets import fetch_openml\n",
    "from sklearn.linear_model import LinearRegression\n",
    "from sklearn.model_selection import train_test_split\n",
    "from sklearn.metrics import r2_score, mean_squared_error\n",
    "\n",
    "# Load Boston dataset using OpenML (since load_boston is deprecated)\n",
    "boston = fetch_openml(name='boston', version=1, as_frame=True)\n",
    "X = boston.data[['RM']]  # Using only 'RM' feature (average number of rooms per dwelling)\n",
    "y = boston.target\n",
    "\n",
    "# Split into training and testing sets\n",
    "X_train, X_test, y_train, y_test = train_test_split(X, y, test_size=0.2, random_state=42)\n",
    "\n",
    "# Train Linear Regression model\n",
    "model = LinearRegression()\n",
    "model.fit(X_train, y_train)\n",
    "\n",
    "# Predict on test data\n",
    "y_pred = model.predict(X_test)\n",
    "\n",
    "# Evaluation\n",
    "print(\"R^2 Score:\", r2_score(y_test, y_pred))\n",
    "print(\"Mean Squared Error:\", mean_squared_error(y_test, y_pred))\n",
    "print(\"Intercept:\", model.intercept_)\n",
    "print(\"Coefficient (slope):\", model.coef_[0])\n",
    "\n",
    "# Visualization\n",
    "plt.scatter(X_test, y_test, color='blue', label='Actual Prices')\n",
    "plt.plot(X_test, y_pred, color='red', linewidth=2, label='Predicted Line')\n",
    "plt.xlabel(\"Average Number of Rooms per Dwelling (RM)\")\n",
    "plt.ylabel(\"Median House Price ($1000s)\")\n",
    "plt.title(\"Linear Regression on Boston Housing (Feature: RM)\")\n",
    "plt.legend()\n",
    "plt.grid(True)\n",
    "plt.show()\n"
   ]
  },
  {
   "cell_type": "code",
   "execution_count": null,
   "id": "9b0d251b",
   "metadata": {},
   "outputs": [],
   "source": []
  }
 ],
 "metadata": {
  "kernelspec": {
   "display_name": "Python 3",
   "language": "python",
   "name": "python3"
  },
  "language_info": {
   "codemirror_mode": {
    "name": "ipython",
    "version": 3
   },
   "file_extension": ".py",
   "mimetype": "text/x-python",
   "name": "python",
   "nbconvert_exporter": "python",
   "pygments_lexer": "ipython3",
   "version": "3.10.16"
  }
 },
 "nbformat": 4,
 "nbformat_minor": 5
}
